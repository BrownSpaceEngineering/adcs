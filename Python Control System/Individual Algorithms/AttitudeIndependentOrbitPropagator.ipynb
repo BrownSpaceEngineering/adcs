{
 "cells": [
  {
   "cell_type": "code",
   "execution_count": 2,
   "id": "f6fe5460-8be7-4338-820f-63deea914684",
   "metadata": {},
   "outputs": [],
   "source": [
    "import numpy as np\n",
    "from typing import Callable\n",
    "from numpy.typing import NDArray, ArrayLike\n",
    "import csv\n",
    "from datetime import datetime, timezone\n",
    "import astropy\n",
    "import pytz\n",
    "from astropy.time import Time\n",
    "import math\n",
    "from pyquaternion import Quaternion\n",
    "import pymap3d\n",
    "import matplotlib.pyplot as plt\n",
    "import ppigrf"
   ]
  },
  {
   "cell_type": "code",
   "execution_count": 3,
   "id": "be3a34ec-4edb-47d4-863f-0622c71da729",
   "metadata": {},
   "outputs": [],
   "source": [
    "def estimate_jacobian(f : Callable[NDArray[np.float64], NDArray[np.float64]],\n",
    "                     state : NDArray[np.float64], #1 dimensional vector\n",
    "                      epsilon = 1000 #limit definition of the derivative applied to vectorvalued partials\n",
    "                     ):\n",
    "    y = f(state)\n",
    "    n = state.shape[0]#function input vector shape\n",
    "    m = y.shape[0]#function output vector shape\n",
    "    J = np.zeros((m, n))\n",
    "    for i in range(n):\n",
    "        state_1 = np.copy(state)\n",
    "        state_1[i] = state[i] + epsilon\n",
    "        f_1 = f(state_1)\n",
    "        for j in range(m):\n",
    "            J[j][i] = (f_1[j] - y[j])/epsilon\n",
    "\n",
    "    return J\n",
    "\n",
    "def raw_igdf_enu(height_from_sea_level : np.float64, lat : np.float64, lon : np.float64, time):\n",
    "    #kilometers, degrees, degrees\n",
    "    #returns B_east, b_north, b_up in nT: https://github.com/IAGA-VMOD/ppigrf/tree/main\n",
    "    return ppigrf.igrf(lon, lat, height_from_sea_level, time)\n",
    "\n",
    "def igdf_eci_vector(x : np.float64, y : np.float64, z : np.float64, time):\n",
    "    #eci in METERS, returns unit eci igdf vector\n",
    "    lat, lon, alt = pymap3d.eci2geodetic(x, y, z, time)\n",
    "    b_east, b_north, b_up = raw_igdf_enu(alt/1000, lat, lon, time)\n",
    "    ecefb_x, ecefb_y, ecefb_z = pymap3d.enu2ecef(b_east, b_north, b_up, lat, lon, alt)\n",
    "    b_x, b_y, b_z = pymap3d.ecef2eci(ecefb_x, ecefb_y, ecefb_z, time)\n",
    "    b_vec = np.array([b_x - x, b_y - y, b_z - z])\n",
    "    return b_vec"
   ]
  },
  {
   "cell_type": "code",
   "execution_count": 138,
   "id": "04f520ba-78e8-4730-83ee-195b100a186f",
   "metadata": {},
   "outputs": [],
   "source": [
    "#https://github.com/MartinAstro/GravityModels/tree/main\n",
    "\n",
    "earth = Earth()\n",
    "earth_sph_harm = SphericalHarmonics(earth.sh_file, 4)"
   ]
  },
  {
   "cell_type": "raw",
   "id": "e44a84f1-cbee-4622-ae8c-8176fc74e7b3",
   "metadata": {},
   "source": [
    "Source For Stuff: https://www.researchgate.net/publication/238189775_Orbit_Determination_Using_the_Geomagnetic_Field_Measurement_via_the_Unscented_Kalman_Filter\n",
    "\n",
    "Implemented: Study Case E\n",
    "\n",
    "State:\n",
    "[x(eci, m), y(eci, m), z(eci, m), dx(eci, m/s), dy(eci, m/s), dz(eci, m/s), inverse of the ballistic coefficient(m^2/kg)]"
   ]
  },
  {
   "cell_type": "code",
   "execution_count": 139,
   "id": "4611d3bb-92d9-49dd-98b9-b67111e3a4e2",
   "metadata": {},
   "outputs": [],
   "source": [
    "air_density = 10e-15\n",
    "body_length = 3\n",
    "body_mass = 1\n",
    "\n",
    "def df(state):\n",
    "    position = np.array([state[0], state[1], state[2]], dtype = np.float64)\n",
    "    a_g = earth_sph_harm.compute_acceleration(np.array([position]))[0]\n",
    "    \n",
    "    velocity = np.array([state[3], state[4], state[5]])\n",
    "    drag_direction = -velocity/np.linalg.norm(velocity)\n",
    "    drag_coefficient = air_density * body_length * state[6]\n",
    "    drag_force = 1/2 * air_density * (np.linalg.norm(velocity)**2) * drag_coefficient\n",
    "    drag_acceleration = drag_force/body_mass\n",
    "    a_drag = drag_direction * drag_acceleration\n",
    "    \n",
    "    dr = velocity\n",
    "    dv = a_g + a_drag\n",
    "    return np.concatenate([dr, dv, np.array([0])])\n",
    "def f(state, dt):\n",
    "    return state + df(state)*dt\n",
    "\n",
    "def h(state):\n",
    "    time = datetime.now()\n",
    "    magnetic_vec = igdf_eci_vector(state[0], state[1], state[2], time)\n",
    "    return np.array([np.linalg.norm(magnetic_vec)])"
   ]
  },
  {
   "cell_type": "code",
   "execution_count": 140,
   "id": "373957cc-fdbf-493a-a649-db319c070432",
   "metadata": {},
   "outputs": [],
   "source": [
    "#https://filterpy.readthedocs.io/en/latest/kalman/UnscentedKalmanFilter.html\n",
    "from filterpy.kalman import UnscentedKalmanFilter, MerweScaledSigmaPoints\n",
    "from filterpy.common import Q_discrete_white_noise\n",
    "\n",
    "sigma_points = MerweScaledSigmaPoints(7, alpha=.1, beta=2., kappa=-1)\n",
    "dt = 0.1\n",
    "ukf = UnscentedKalmanFilter(dim_x=7, dim_z=1, dt=dt, fx=f, hx=h, points=sigma_points)"
   ]
  },
  {
   "cell_type": "code",
   "execution_count": 1,
   "id": "1f4aaba3-eaf9-44dc-8073-b5d7029bef74",
   "metadata": {},
   "outputs": [
    {
     "ename": "NameError",
     "evalue": "name 'igdf_eci_vector' is not defined",
     "output_type": "error",
     "traceback": [
      "\u001b[0;31m---------------------------------------------------------------------------\u001b[0m",
      "\u001b[0;31mNameError\u001b[0m                                 Traceback (most recent call last)",
      "Cell \u001b[0;32mIn[1], line 5\u001b[0m\n\u001b[1;32m      2\u001b[0m \u001b[38;5;28;01mfrom\u001b[39;00m \u001b[38;5;21;01mautograd\u001b[39;00m \u001b[38;5;28;01mimport\u001b[39;00m grad, jacobian\n\u001b[1;32m      4\u001b[0m position_example \u001b[38;5;241m=\u001b[39m np\u001b[38;5;241m.\u001b[39marray([\u001b[38;5;241m6.8e6\u001b[39m, \u001b[38;5;241m0\u001b[39m, \u001b[38;5;241m0\u001b[39m])\n\u001b[0;32m----> 5\u001b[0m magnetic_vec \u001b[38;5;241m=\u001b[39m \u001b[38;5;241m-\u001b[39migdf_eci_vector(\u001b[38;5;241m6.8e6\u001b[39m, \u001b[38;5;241m0\u001b[39m ,\u001b[38;5;241m0\u001b[39m, datetime\u001b[38;5;241m.\u001b[39mnow())\n\u001b[1;32m      6\u001b[0m state_example \u001b[38;5;241m=\u001b[39m np\u001b[38;5;241m.\u001b[39mconcatenate([position_example, np\u001b[38;5;241m.\u001b[39mones(\u001b[38;5;241m3\u001b[39m), [\u001b[38;5;241m1\u001b[39m]], axis \u001b[38;5;241m=\u001b[39m \u001b[38;5;241m0\u001b[39m)\n\u001b[1;32m      7\u001b[0m state_example \u001b[38;5;241m=\u001b[39m np\u001b[38;5;241m.\u001b[39marray(state_example, dtype \u001b[38;5;241m=\u001b[39m np\u001b[38;5;241m.\u001b[39mfloat64)\n",
      "\u001b[0;31mNameError\u001b[0m: name 'igdf_eci_vector' is not defined"
     ]
    }
   ],
   "source": [
    "import autograd.numpy as np\n",
    "from autograd import grad, jacobian\n",
    "\n",
    "position_example = np.array([6.8e6, 0, 0])\n",
    "magnetic_vec = -igdf_eci_vector(6.8e6, 0 ,0, datetime.now())\n",
    "state_example = np.concatenate([position_example, np.ones(3), [1]], axis = 0)\n",
    "state_example = np.array(state_example, dtype = np.float64)\n",
    "z_variance = 300\n",
    "f_now = lambda state: f(state, 1)\n",
    "estimated_J = estimate_jacobian(f_now, state_example, 1)\n",
    "\n",
    "ukf.x = state_example\n",
    "ukf.P = np.linalg.inv(estimated_J.T@estimated_J)#http://ceres-solver.org/nnls_covariance.html\n",
    "ukf.R = np.array([z_variance])\n",
    "\n",
    "for i in range(1):\n",
    "    ukf.predict()\n",
    "    ukf.update(np.linalg.norm(magnetic_vec))"
   ]
  },
  {
   "cell_type": "code",
   "execution_count": null,
   "id": "3762d9f3-fc29-4a01-8cee-6268b2bb890e",
   "metadata": {},
   "outputs": [],
   "source": []
  }
 ],
 "metadata": {
  "kernelspec": {
   "display_name": "Python 3 (ipykernel)",
   "language": "python",
   "name": "python3"
  },
  "language_info": {
   "codemirror_mode": {
    "name": "ipython",
    "version": 3
   },
   "file_extension": ".py",
   "mimetype": "text/x-python",
   "name": "python",
   "nbconvert_exporter": "python",
   "pygments_lexer": "ipython3",
   "version": "3.12.9"
  }
 },
 "nbformat": 4,
 "nbformat_minor": 5
}
