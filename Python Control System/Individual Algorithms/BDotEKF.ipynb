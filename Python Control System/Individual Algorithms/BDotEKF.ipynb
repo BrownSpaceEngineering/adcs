{
 "cells": [
  {
   "cell_type": "code",
   "execution_count": 1,
   "id": "70375b6c-e69d-4a25-8924-ae38dbeb2f13",
   "metadata": {},
   "outputs": [],
   "source": [
    "import numpy as np\n",
    "from typing import Callable\n",
    "from numpy.typing import NDArray, ArrayLike\n",
    "import csv\n",
    "from datetime import datetime, timezone\n",
    "import astropy\n",
    "import pytz\n",
    "from astropy.time import Time\n",
    "import math\n",
    "from pyquaternion import Quaternion\n",
    "import pymap3d\n",
    "import matplotlib.pyplot as plt\n",
    "import ppigrf"
   ]
  },
  {
   "cell_type": "code",
   "execution_count": 2,
   "id": "a30feb0f-f7ea-4c07-b5ac-ed1990edd419",
   "metadata": {},
   "outputs": [],
   "source": [
    "def estimate_jacobian(f : Callable[NDArray[np.float64], NDArray[np.float64]],\n",
    "                     state : NDArray[np.float64], #1 dimensional vector\n",
    "                      epsilon = 1000 #limit definition of the derivative applied to vectorvalued partials\n",
    "                     ):\n",
    "    y = f(state)\n",
    "    n = state.shape[0]#function input vector shape\n",
    "    m = y.shape[0]#function output vector shape\n",
    "    J = np.zeros((m, n))\n",
    "    for i in range(n):\n",
    "        state_1 = np.copy(state)\n",
    "        state_1[i] = state[i] + epsilon\n",
    "        f_1 = f(state_1)\n",
    "        for j in range(m):\n",
    "            J[j][i] = (f_1[j] - y[j])/epsilon\n",
    "\n",
    "    return J\n",
    "\n",
    "def raw_igdf_enu(height_from_sea_level : np.float64, lat : np.float64, lon : np.float64, time):\n",
    "    #kilometers, degrees, degrees\n",
    "    #returns B_east, b_north, b_up in nT: https://github.com/IAGA-VMOD/ppigrf/tree/main\n",
    "    return ppigrf.igrf(lon, lat, height_from_sea_level, time)\n",
    "\n",
    "def igdf_eci_vector(x : np.float64, y : np.float64, z : np.float64, time):\n",
    "    #eci in METERS, returns unit eci igdf vector\n",
    "    lat, lon, alt = pymap3d.eci2geodetic(x, y, z, time)\n",
    "    b_east, b_north, b_up = raw_igdf_enu(alt/1000, lat, lon, time)\n",
    "    ecefb_x, ecefb_y, ecefb_z = pymap3d.enu2ecef(b_east, b_north, b_up, lat, lon, alt)\n",
    "    b_x, b_y, b_z = pymap3d.ecef2eci(ecefb_x, ecefb_y, ecefb_z, time)\n",
    "    b_vec = np.array([b_x - x, b_y - y, b_z - z])\n",
    "    return b_vec"
   ]
  },
  {
   "cell_type": "raw",
   "id": "d97ccf35-927b-4efb-b2a8-dd8298002857",
   "metadata": {},
   "source": [
    "Source: Searcy 2012 Paper, i pirated it off somewhere idek where i got it lowkey\n",
    "\n",
    "State: [Bx, By, Bz, Bdot_x, Bdot_y, Bdot_z, B2dot_x, B2dot_y, B2dot_z]"
   ]
  },
  {
   "cell_type": "code",
   "execution_count": 111,
   "id": "3ab890d8-cb2f-4e7d-9354-473e902c7acd",
   "metadata": {},
   "outputs": [],
   "source": [
    "dt = 10\n",
    "def df(state):\n",
    "    return np.array([\n",
    "        state[3], state[4], state[5], state[6], state[7], state[8], 0, 0, 0\n",
    "    ])\n",
    "def f(state):\n",
    "    return state + dt*df(state)\n",
    "\n",
    "def h(state):\n",
    "    return np.array([state[0], state[1], state[2]])"
   ]
  },
  {
   "cell_type": "code",
   "execution_count": 142,
   "id": "08bd687e-121a-40d1-b8b1-3afc906b0e6c",
   "metadata": {},
   "outputs": [],
   "source": [
    "Q = np.eye(9)\n",
    "R = np.eye(3) * 3\n",
    "\n",
    "def EKF_iter(previous_state, previous_covariance, received_measurements):\n",
    "    state_estimate = f(previous_state)\n",
    "    F = estimate_jacobian(f, previous_state)\n",
    "    covariance_estimate = F@previous_covariance@F.T + Q\n",
    "\n",
    "    residual = received_measurements - h(state_estimate)\n",
    "    H = estimate_jacobian(h, state_estimate)\n",
    "    S = H@covariance_estimate@H.T + R\n",
    "    K = covariance_estimate@H.T@np.linalg.inv(S)\n",
    "\n",
    "    predicted_state = state_estimate + K@residual\n",
    "    predicted_covariance = (np.eye(9) - K@H)@covariance_estimate\n",
    "    return predicted_state, predicted_covariance\n",
    "    "
   ]
  },
  {
   "cell_type": "code",
   "execution_count": 143,
   "id": "84571feb-74f7-4b42-875c-f0307c908078",
   "metadata": {},
   "outputs": [
    {
     "name": "stdout",
     "output_type": "stream",
     "text": [
      "[6000. 1000. 1000.   10.    0.    0.    0.    0.    0.]\n",
      "[ 5.99065653e+03  1.00306770e+03  1.00165241e+03  1.23226021e+01\n",
      "  1.05124866e+00  1.68745204e+00  1.15817913e+00 -7.38821974e-02\n",
      "  5.20680502e-01]\n"
     ]
    }
   ],
   "source": [
    "real_state = np.array([1000, 1000, 1000, 10, 0, 0, 0, 0, 0], dtype = np.float64)\n",
    "measurements = h(real_state) + np.random.normal(size = 3)\n",
    "noisy_state = np.array([1010, 970, 1020, 0, 0, 0, 0, 0, 0], dtype = np.float64)\n",
    "\n",
    "estimated_J = estimate_jacobian(f, noisy_state, 1)\n",
    "\n",
    "initial_covariance = np.linalg.inv(estimated_J.T@estimated_J)* 1000\n",
    "for i in range(500):\n",
    "    measurements = h(real_state) + np.random.normal(scale = 3, size = 3)\n",
    "    noisy_state, initial_covariance = EKF_iter(noisy_state, initial_covariance, measurements)\n",
    "    real_state = f(real_state)\n",
    "print(real_state)\n",
    "print(noisy_state)"
   ]
  },
  {
   "cell_type": "code",
   "execution_count": null,
   "id": "92f2a80c-f6f5-4fa3-9634-298a33651fdc",
   "metadata": {},
   "outputs": [],
   "source": []
  },
  {
   "cell_type": "code",
   "execution_count": null,
   "id": "ef7ed285-8c2e-4550-8a4e-71e9441e2390",
   "metadata": {},
   "outputs": [],
   "source": []
  }
 ],
 "metadata": {
  "kernelspec": {
   "display_name": "Python 3 (ipykernel)",
   "language": "python",
   "name": "python3"
  },
  "language_info": {
   "codemirror_mode": {
    "name": "ipython",
    "version": 3
   },
   "file_extension": ".py",
   "mimetype": "text/x-python",
   "name": "python",
   "nbconvert_exporter": "python",
   "pygments_lexer": "ipython3",
   "version": "3.12.9"
  }
 },
 "nbformat": 4,
 "nbformat_minor": 5
}
