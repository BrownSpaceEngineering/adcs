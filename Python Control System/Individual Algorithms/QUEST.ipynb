{
 "cells": [
  {
   "cell_type": "code",
   "execution_count": 11,
   "id": "daf992ae-3e38-40a1-aff0-86f6ca5f2851",
   "metadata": {},
   "outputs": [],
   "source": [
    "import numpy as np\n",
    "from pyquaternion import Quaternion\n",
    "import math"
   ]
  },
  {
   "cell_type": "code",
   "execution_count": 75,
   "id": "26622945-4f05-4704-b69b-576f88fed827",
   "metadata": {},
   "outputs": [],
   "source": [
    "def NewtonRaphson(proposed_eigen, a, b, c, d, sigma):\n",
    "    return proposed_eigen - (proposed_eigen**4 - (a+b)*(proposed_eigen**2) - c*proposed_eigen + (a*b + c*sigma - d)) \\\n",
    "    / (4*(proposed_eigen**3) - 2*(a+b)*proposed_eigen - c)\n",
    "\n",
    "def QUEST(observation_vectors, reference_vectors):\n",
    "    iters = 10\n",
    "    #all vectors should be unit vectors of shape (3, )\n",
    "    vector_count = len(observation_vectors)\n",
    "    weights = np.random.random(vector_count)\n",
    "    weights /= weights.sum()\n",
    "\n",
    "    B = np.zeros((3, 3))\n",
    "    Z = np.zeros(3)\n",
    "    for i in range(vector_count):\n",
    "        B += weights[i] * np.outer(observation_vectors[i], reference_vectors[i])\n",
    "        Z += weights[i] * np.cross(observation_vectors[i],reference_vectors[i])\n",
    "    S = B + B.T\n",
    "\n",
    "    delta = np.linalg.det(S)\n",
    "    kappa = np.trace(np.linalg.inv(S).T * delta)\n",
    "    sigma = 1/2*np.trace(S)\n",
    "    d = Z@S@S@Z.T\n",
    "    c = delta + Z@S@Z.T\n",
    "    b = sigma**2 + Z@Z.T\n",
    "    a = sigma**2 - kappa\n",
    "\n",
    "    proposed_eigen = 1\n",
    "    for i in range(iters):\n",
    "        print(proposed_eigen)\n",
    "        proposed_eigen = NewtonRaphson(proposed_eigen, a, b, c, d, sigma)\n",
    "\n",
    "    alpha = proposed_eigen**2 - sigma**2 + kappa\n",
    "    beta = proposed_eigen - sigma\n",
    "    gamma = (proposed_eigen + sigma)*alpha - delta\n",
    "    X = -(alpha*np.eye(3) + beta*S + S@S)@Z#look idfk but my vectors were always off by a negative sign\n",
    "\n",
    "    return 1/math.sqrt(gamma**2 + (np.linalg.norm(X))**2) * Quaternion(scalar = gamma, vector = X)\n",
    "    \n",
    "    "
   ]
  },
  {
   "cell_type": "code",
   "execution_count": 76,
   "id": "06c314f3-0964-46d2-bda0-2662fe8096e5",
   "metadata": {},
   "outputs": [
    {
     "name": "stdout",
     "output_type": "stream",
     "text": [
      "1\n",
      "0.9999999999999999\n",
      "0.9999999999999999\n",
      "0.9999999999999999\n",
      "0.9999999999999999\n",
      "0.9999999999999999\n",
      "0.9999999999999999\n",
      "0.9999999999999999\n",
      "0.9999999999999999\n",
      "0.9999999999999999\n",
      "[-0.09509865  0.81092509 -0.57737055]\n",
      "[-0.09509865  0.81092509 -0.57737055]\n"
     ]
    }
   ],
   "source": [
    "real_1 = np.array([1, 0, 0])\n",
    "real_2 = np.array([0, 1, 0])\n",
    "real_3 = np.array([0, 0, 1])\n",
    "\n",
    "random_4 = []\n",
    "while(True):\n",
    "    random_3 = np.random.random(3)\n",
    "    if(np.linalg.norm(random_3) < 1):\n",
    "        random_4 = np.array([random_3[0], random_3[1], random_3[2], math.sqrt(1 - np.linalg.norm(random_3)**2)])\n",
    "        break\n",
    "\n",
    "quat = Quaternion(random_4)\n",
    "observed_v1 = quat.rotate(real_1)\n",
    "observed_v2 = quat.rotate(real_2)\n",
    "observed_v3 = quat.rotate(real_3)\n",
    "observed = np.array([observed_v1, observed_v2, observed_v3])\n",
    "real = np.array([real_1, real_2, real_3])\n",
    "quat_received = QUEST(observed, real)\n",
    "print(quat_received.rotate(real_1))\n",
    "print(observed_v1)"
   ]
  },
  {
   "cell_type": "code",
   "execution_count": null,
   "id": "8be82d50-73be-4d6a-8b17-07e8886ab938",
   "metadata": {},
   "outputs": [],
   "source": []
  },
  {
   "cell_type": "code",
   "execution_count": null,
   "id": "e78f77d6-6365-450f-a924-8f66e6e6378c",
   "metadata": {},
   "outputs": [],
   "source": []
  }
 ],
 "metadata": {
  "kernelspec": {
   "display_name": "Python 3 (ipykernel)",
   "language": "python",
   "name": "python3"
  },
  "language_info": {
   "codemirror_mode": {
    "name": "ipython",
    "version": 3
   },
   "file_extension": ".py",
   "mimetype": "text/x-python",
   "name": "python",
   "nbconvert_exporter": "python",
   "pygments_lexer": "ipython3",
   "version": "3.12.9"
  }
 },
 "nbformat": 4,
 "nbformat_minor": 5
}
