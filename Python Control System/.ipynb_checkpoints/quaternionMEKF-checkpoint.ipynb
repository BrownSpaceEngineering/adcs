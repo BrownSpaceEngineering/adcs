{
 "cells": [
  {
   "cell_type": "code",
   "execution_count": 1,
   "id": "b4318ba3-9567-4b20-ad7c-dab8e724fed5",
   "metadata": {},
   "outputs": [],
   "source": [
    "import numpy as np\n",
    "from typing import Callable\n",
    "from numpy.typing import NDArray, ArrayLike\n",
    "import csv\n",
    "from datetime import datetime, timezone\n",
    "import astropy\n",
    "import pytz\n",
    "from astropy.time import Time\n",
    "import math\n",
    "from pyquaternion import Quaternion\n",
    "import pymap3d\n",
    "import matplotlib.pyplot as plt\n",
    "import ppigrf"
   ]
  },
  {
   "cell_type": "code",
   "execution_count": 2,
   "id": "80da0ab0-2c32-4b3e-8595-8a6db49207c2",
   "metadata": {},
   "outputs": [],
   "source": [
    "def raw_igdf_enu(height_from_sea_level : np.float64, lat : np.float64, lon : np.float64, time):\n",
    "    #kilometers, degrees, degrees\n",
    "    #returns B_east, b_north, b_up in nT: https://github.com/IAGA-VMOD/ppigrf/tree/main\n",
    "    return ppigrf.igrf(lon, lat, height_from_sea_level, time)\n",
    "\n",
    "def igdf_eci_vector(x : np.float64, y : np.float64, z : np.float64, time):\n",
    "    #eci in METERS, returns unit eci igdf vector\n",
    "    lat, lon, alt = pymap3d.eci2geodetic(x, y, z, time)\n",
    "    b_east, b_north, b_up = raw_igdf_enu(alt/1000, lat, lon, time)\n",
    "    ecefb_x, ecefb_y, ecefb_z = pymap3d.enu2ecef(b_east, b_north, b_up, lat, lon, alt)\n",
    "    b_x, b_y, b_z = pymap3d.ecef2eci(ecefb_x, ecefb_y, ecefb_z, time)\n",
    "    b_vec = np.array([b_x - x, b_y - y, b_z - z])\n",
    "    return b_vec"
   ]
  },
  {
   "cell_type": "raw",
   "id": "2251e0bf-ab0d-4b2c-86e1-3d36aa7929c8",
   "metadata": {},
   "source": [
    "Source: \n",
    "https://ieeexplore.ieee.org/document/9775141\n",
    "https://arxiv.org/pdf/2307.06300\n",
    "\n",
    "State:\n",
    "[q_0, q1, q2, q3, w_x, w_y, w_z]\n",
    "Received Output:\n",
    "[b1, b2, b3]\n"
   ]
  },
  {
   "cell_type": "code",
   "execution_count": 410,
   "id": "334de480-aac1-4e42-9b37-0f60d8001fa4",
   "metadata": {},
   "outputs": [],
   "source": [
    "Q = np.eye(6)#use the Q equation from Table II of the \"backup satellite\" paper\n",
    "R = np.eye(3)*10#use Equation 26 when actually finding R\n",
    "dt = 1\n",
    "def xi(quaternion, angular_velocities):\n",
    "    angular_velocity_quat = Quaternion(scalar = 0, vector = angular_velocities*dt)\n",
    "    return 1/2*quaternion*angular_velocity_quat\n",
    "    \n",
    "def cross_product_matrix(mat):\n",
    "    return np.cross(np.eye(3), mat)\n",
    "\n",
    "#note that, in all cases, if no measurement is received, we simply must dead reckon, tough luck\n",
    "def MEKF(previous_state, previous_covariance, measured_quaternion):\n",
    "    #measured quaternion received from QUEST based either on sun_sensor + magnetometer OR bdot + magnetometer\n",
    "    H = np.array([\n",
    "        [1, 0, 0, 0, 0, 0],\n",
    "        [0, 1, 0, 0, 0, 0],\n",
    "        [0, 0, 1, 0, 0, 0]\n",
    "    ])#the h function is assumed to simply return the angular component of the quaternion -- hence, the shape\n",
    "    \n",
    "    F = np.concatenate([\n",
    "        np.concatenate([-cross_product_matrix(previous_state[4:]), -np.eye(3)], axis = 1),\n",
    "        np.zeros((3,6))\n",
    "    ])\n",
    "    #smart people found this based on the update function f(quaternion, w) = quaternion + xi(quaternion, w)\n",
    "    #i am not smart people\n",
    "\n",
    "    previous_quaternion = Quaternion(previous_state[:4])\n",
    "    angular_velocities = previous_state[4:]\n",
    "    estimated_quaternion = previous_quaternion + xi(previous_quaternion, angular_velocities)#estimate based on derivative\n",
    "\n",
    "    #standard kalman filter stuff\n",
    "    estimated_cov_diff = F@previous_covariance@F.T + Q\n",
    "    S = H@estimated_cov_diff@H.T + R\n",
    "    kalman_gain = estimated_cov_diff@H.T@np.linalg.inv(S)\n",
    "    predicted_covariance = (np.eye(6) - kalman_gain@H)@estimated_cov_diff\n",
    "\n",
    "    #multiplicative EKF specific calculations\n",
    "    error_quaternion = measured_quaternion*(previous_quaternion.inverse)\n",
    "    a = error_quaternion.elements[1:]/error_quaternion[0]\n",
    "    d_state = kalman_gain@a\n",
    "    new_angular_velocities = angular_velocities + d_state[3:]\n",
    "    d_attitude = Quaternion(vector = d_state[:3], scalar = 2)#gives the attitude error\n",
    "\n",
    "    #applying d_attitude to the previous quaternion and integrating\n",
    "    d_quat = d_attitude* previous_quaternion + xi(d_attitude* previous_quaternion, angular_velocities)\n",
    "    predicted_quaternion_unnormal = estimated_quaternion + d_quat\n",
    "    \n",
    "    predicted_quaternion_normal = predicted_quaternion_unnormal/predicted_quaternion_unnormal.norm\n",
    "\n",
    "    predicted_state = np.concatenate([predicted_quaternion_normal.elements, new_angular_velocities], axis = 0)\n",
    "    return predicted_state, predicted_covariance\n",
    "    "
   ]
  },
  {
   "cell_type": "code",
   "execution_count": 411,
   "id": "2022e829-63ac-48bb-a3c2-65824f3dff33",
   "metadata": {},
   "outputs": [],
   "source": [
    "starting_state = np.array([1, 0, 0, 0, 0.001, 0.001, 0.001])\n",
    "measured_quaternion = Quaternion(axis = [math.sqrt(2), math.sqrt(2), 0], angle = math.radians(10))\n",
    "cov = np.eye(6) * 10000\n",
    "for i in range(1000):\n",
    "    starting_state, cov = MEKF(starting_state, cov, measured_quaternion)\n"
   ]
  },
  {
   "cell_type": "code",
   "execution_count": 412,
   "id": "aba06c51-b843-43d6-910f-b3c76a7fa9b4",
   "metadata": {},
   "outputs": [
    {
     "name": "stdout",
     "output_type": "stream",
     "text": [
      "[0.99496451 0.07114018 0.07003101 0.00896466]\n",
      "0.996 +0.062i +0.062j +0.000k\n"
     ]
    }
   ],
   "source": [
    "print(starting_state[:4])\n",
    "print(measured_quaternion)"
   ]
  },
  {
   "cell_type": "code",
   "execution_count": 315,
   "id": "9162ff6b-b4b4-48f4-822d-80c8144ecb48",
   "metadata": {},
   "outputs": [
    {
     "name": "stdout",
     "output_type": "stream",
     "text": [
      "[0.98667575 0.11524101 0.11483157 0.00204623 0.001      0.001\n",
      " 0.001     ]\n",
      "0.985 +0.123i +0.123j +0.000k\n"
     ]
    }
   ],
   "source": [
    "print(starting_state)\n",
    "print(measured_quaternion)"
   ]
  },
  {
   "cell_type": "code",
   "execution_count": 239,
   "id": "421ba9cb-c367-4352-983e-fc05f398b849",
   "metadata": {},
   "outputs": [
    {
     "data": {
      "text/plain": [
       "array([0, 0, 0])"
      ]
     },
     "execution_count": 239,
     "metadata": {},
     "output_type": "execute_result"
    }
   ],
   "source": [
    "np.cross([1,2,3],[1,2,3])"
   ]
  },
  {
   "cell_type": "code",
   "execution_count": 335,
   "id": "be735849-c026-4c9c-88a6-c26351435a01",
   "metadata": {},
   "outputs": [],
   "source": [
    "def xi(quaternion, angular_velocities):\n",
    "    angular_velocity_quat = Quaternion(scalar = 0, vector = angular_velocities)\n",
    "    return 1/2*quaternion*angular_velocity_quat"
   ]
  },
  {
   "cell_type": "code",
   "execution_count": 378,
   "id": "658295ea-99e6-4242-86ad-3ba887ca7cf5",
   "metadata": {},
   "outputs": [
    {
     "name": "stdout",
     "output_type": "stream",
     "text": [
      "[[ 1  1  1 -1 -1 -1]\n",
      " [ 2  2  2 -2 -2 -2]\n",
      " [ 3  3  3 -3 -3 -3]\n",
      " [-4 -4 -4  4  4  4]\n",
      " [ 0  0  0  0  5  0]\n",
      " [ 0  0  0  0  0  6]]\n"
     ]
    }
   ],
   "source": [
    "Gamma = np.array(\n",
    "        [[-1, 0, 0, 0, 0, 0],\n",
    "        [0, -1, 0, 0, 0, 0],\n",
    "        [0, 0, -1, 0, 0, 0],\n",
    "        [0, 0, 0, 1, 0, 0],\n",
    "        [0, 0, 0, 0, 1, 0],\n",
    "        [0, 0, 0, 0, 0, 1]]\n",
    "    )\n",
    "\n",
    "test = np.array(\n",
    "        [[1, 1, 1, 1, 1, 1],\n",
    "        [2, 2, 2, 2, 2, 2],\n",
    "        [3, 3, 3, 3, 3, 3],\n",
    "        [4, 4, 4, 4, 4, 4],\n",
    "        [0, 0, 0, 0, 5, 0],\n",
    "        [0, 0, 0, 0, 0, 6]]\n",
    "    )\n",
    "print(Gamma@test@Gamma.T)"
   ]
  },
  {
   "cell_type": "code",
   "execution_count": null,
   "id": "2af475ce-1946-412d-9ddf-668ed421d244",
   "metadata": {},
   "outputs": [],
   "source": []
  }
 ],
 "metadata": {
  "kernelspec": {
   "display_name": "Python 3 (ipykernel)",
   "language": "python",
   "name": "python3"
  },
  "language_info": {
   "codemirror_mode": {
    "name": "ipython",
    "version": 3
   },
   "file_extension": ".py",
   "mimetype": "text/x-python",
   "name": "python",
   "nbconvert_exporter": "python",
   "pygments_lexer": "ipython3",
   "version": "3.12.9"
  }
 },
 "nbformat": 4,
 "nbformat_minor": 5
}
