{
 "cells": [
  {
   "cell_type": "code",
   "execution_count": 1,
   "id": "f6fe5460-8be7-4338-820f-63deea914684",
   "metadata": {},
   "outputs": [],
   "source": [
    "import numpy as np\n",
    "from typing import Callable\n",
    "from numpy.typing import NDArray, ArrayLike\n",
    "import csv\n",
    "from datetime import datetime, timezone\n",
    "import astropy\n",
    "import pytz\n",
    "from astropy.time import Time\n",
    "import math\n",
    "from pyquaternion import Quaternion\n",
    "import pymap3d\n",
    "import matplotlib.pyplot as plt\n",
    "import ppigrf"
   ]
  },
  {
   "cell_type": "code",
   "execution_count": 89,
   "id": "be3a34ec-4edb-47d4-863f-0622c71da729",
   "metadata": {},
   "outputs": [],
   "source": [
    "def estimate_jacobian(f : Callable[NDArray[np.float64], NDArray[np.float64]],\n",
    "                     state : NDArray[np.float64], #1 dimensional vector\n",
    "                      epsilon = 1000 #limit definition of the derivative applied to vectorvalued partials\n",
    "                     ):\n",
    "    y = f(state)\n",
    "    n = state.shape[0]#function input vector shape\n",
    "    m = y.shape[0]#function output vector shape\n",
    "    J = np.zeros((m, n))\n",
    "    for i in range(n):\n",
    "        state_1 = np.copy(state)\n",
    "        state_1[i] = state[i] + epsilon\n",
    "        f_1 = f(state_1)\n",
    "        for j in range(m):\n",
    "            J[j][i] = (f_1[j] - y[j])/epsilon\n",
    "\n",
    "    return J\n",
    "\n",
    "def raw_igdf_enu(height_from_sea_level : np.float64, lat : np.float64, lon : np.float64, time):\n",
    "    #kilometers, degrees, degrees\n",
    "    #returns B_east, b_north, b_up in nT: https://github.com/IAGA-VMOD/ppigrf/tree/main\n",
    "    return ppigrf.igrf(lon, lat, height_from_sea_level, time)\n",
    "\n",
    "def igdf_eci_vector(x : np.float64, y : np.float64, z : np.float64, time):\n",
    "    #eci in METERS, returns unit eci igdf vector\n",
    "    lat, lon, alt = pymap3d.eci2geodetic(x, y, z, time)\n",
    "    b_east, b_north, b_up = raw_igdf_enu(alt/1000, lat, lon, time)\n",
    "    ecefb_x, ecefb_y, ecefb_z = pymap3d.enu2ecef(b_east, b_north, b_up, lat, lon, alt)\n",
    "    b_x, b_y, b_z = pymap3d.ecef2eci(ecefb_x, ecefb_y, ecefb_z, time)\n",
    "    b_vec = np.array([b_x - x, b_y - y, b_z - z])\n",
    "    return b_vec"
   ]
  },
  {
   "cell_type": "code",
   "execution_count": 90,
   "id": "04f520ba-78e8-4730-83ee-195b100a186f",
   "metadata": {},
   "outputs": [],
   "source": [
    "earth = Earth()\n",
    "earth_sph_harm = SphericalHarmonics(earth.sh_file, 4)"
   ]
  },
  {
   "cell_type": "raw",
   "id": "e44a84f1-cbee-4622-ae8c-8176fc74e7b3",
   "metadata": {},
   "source": [
    "Source For Stuff: https://www.researchgate.net/publication/238189775_Orbit_Determination_Using_the_Geomagnetic_Field_Measurement_via_the_Unscented_Kalman_Filter\n",
    "\n",
    "State:\n",
    "[x(eci, m), y(eci, m), z(eci, m), dx(eci, m/s), dy(eci, m/s), dz(eci, m/s), inverse of the ballistic coefficient(m^2/kg)]"
   ]
  },
  {
   "cell_type": "code",
   "execution_count": 91,
   "id": "4611d3bb-92d9-49dd-98b9-b67111e3a4e2",
   "metadata": {},
   "outputs": [],
   "source": [
    "\n",
    "def f(state, dt):\n",
    "    a_drag = np.array([0, 0, 0], dtype = np.float64)\n",
    "    position = np.array([state[0], state[1], state[2]], dtype = np.float64)\n",
    "    a_g = earth_sph_harm.compute_acceleration(np.array([position]))[0]\n",
    "    \n",
    "    velocity = np.array([state[3], state[4], state[5]])\n",
    "    position += velocity * dt\n",
    "    velocity += dt*(a_g + a_drag)\n",
    "    return np.concatenate([position, velocity, np.array([state[6]])])\n",
    "\n",
    "def h(state):\n",
    "    time = datetime.now()\n",
    "    magnetic_vec = igdf_eci_vector(state[0], state[1], state[2], time)\n",
    "    return np.array([np.linalg.norm(magnetic_vec)])"
   ]
  },
  {
   "cell_type": "code",
   "execution_count": 96,
   "id": "373957cc-fdbf-493a-a649-db319c070432",
   "metadata": {},
   "outputs": [],
   "source": [
    "#https://filterpy.readthedocs.io/en/latest/kalman/UnscentedKalmanFilter.html\n",
    "from filterpy.kalman import UnscentedKalmanFilter, MerweScaledSigmaPoints\n",
    "from filterpy.common import Q_discrete_white_noise\n",
    "\n",
    "sigma_points = MerweScaledSigmaPoints(7, alpha=.1, beta=2., kappa=-1)\n",
    "dt = 0.1\n",
    "ukf = UnscentedKalmanFilter(dim_x=7, dim_z=1, dt=dt, fx=f, hx=h, points=sigma_points)"
   ]
  },
  {
   "cell_type": "code",
   "execution_count": 99,
   "id": "1f4aaba3-eaf9-44dc-8073-b5d7029bef74",
   "metadata": {},
   "outputs": [],
   "source": [
    "position_example = np.array([6.8e6, 0, 0])\n",
    "magnetic_vec = -igdf_eci_vector(6.8e6, 0 ,0, datetime.now())\n",
    "state_example = np.concatenate([position_example, np.zeros(3), [111111]], axis = 0)\n",
    "z_variance = 300\n",
    "f_nodt = lambda state: f(state, 1)\n",
    "estimated_J = estimate_jacobian(f_nodt, state_example, 1)\n",
    "\n",
    "ukf.x = state_example\n",
    "ukf.P = np.linalg.inv(estimated_J.T@estimated_J)#http://ceres-solver.org/nnls_covariance.html\n",
    "ukf.R = np.array([z_variance])\n",
    "\n",
    "for i in range(1):\n",
    "    ukf.predict()\n",
    "    ukf.update(np.linalg.norm(magnetic_vec))"
   ]
  },
  {
   "cell_type": "code",
   "execution_count": null,
   "id": "388744ef-1c02-4b6e-85d4-0547f8450bcb",
   "metadata": {},
   "outputs": [],
   "source": []
  }
 ],
 "metadata": {
  "kernelspec": {
   "display_name": "Python 3 (ipykernel)",
   "language": "python",
   "name": "python3"
  },
  "language_info": {
   "codemirror_mode": {
    "name": "ipython",
    "version": 3
   },
   "file_extension": ".py",
   "mimetype": "text/x-python",
   "name": "python",
   "nbconvert_exporter": "python",
   "pygments_lexer": "ipython3",
   "version": "3.12.9"
  }
 },
 "nbformat": 4,
 "nbformat_minor": 5
}
